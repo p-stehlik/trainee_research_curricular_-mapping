{
 "cells": [
  {
   "cell_type": "markdown",
   "metadata": {},
   "source": [
    "# Wrangling the data file\n",
    "\n",
    "This notebook shows how the data was wrangled into a flat sheet for analysis.\n",
    "Not all the columns are needed for analysis and they were not \"varified\" by the second reviewer as they were not used in analysis. Unreviewed columns include a \\*:\n",
    "\n",
    "\n",
    "## Data set 1: College EBP and Research Requirements\n",
    "\n",
    "Column | What it refers to\n",
    ":---|:------\n",
    "ID | Unique entry ID\n",
    "College_ID | Name of the college\n",
    "Reserach_stage_ID | Research stage using Glaszious' Triangle\n",
    "Competency_ID | Using Blooms Taxonomy\n",
    "Compulsory_YES_ID|Whether the learning activity or assessment is repeated\n",
    "Repeated_learning_YES_ID| Whether the learning activity or assessment is repeated\n",
    "Activity | Text extracted from college documents\n",
    "\\* Source document | Where the text was extracted from\n",
    "constructive_type | Whether the row is about a learning outcome, learning activity or assessment\n",
    "scholarly_project | Whether the learning activity or assessment is associated with a scholarly project\n",
    "activity_type|Type of learning activity or assessment activity (e.g. Scholarly Project)\n",
    "LEARNINGA_research_training|Whether the learning activity is a form of formal research training\n",
    "LEARNINGA_experienced_supervisor|Whether the scholarly project learning activity requires a research experienced supervisor: This was dispended, and category used instead.\n",
    "LEARNINGA_experienced_supervisor_ID|Level of required research expertise by supervisor as described by the college\n",
    "activity_type|Type of learning activity or assessment activity\n",
    "\\* RPL|Whether the learning activity or assessment has any recognition of prior learning\n",
    "reviewed| Whether the entry has been reviewed by a second reviewer\n",
    "discrepencies_resolved| Whether discrepencies have been resolved\n",
    "exclude| Whether the row needs to be excluded from analysis\n",
    "reason| descriptions of learning activity or assessment\n",
    "project_category_ID| only option, points based or options based\n",
    "HDR_option| Whether the scholarly project learning activity is a Higher Degree by Research(HDR) option or the assessment is associated with HDR: needs to be removed from analysis as we are interested in non-HDR project requirements\n",
    "Assessment_format_ID | Assessment format category (e.g. publication, written exam, etc)\n",
    "Criteria_YES_ID | Whether marking criteria was available for the assessment\n",
    "Criteria_detail | Text extracted from college documents regarding marking critiera\n",
    "HDR_option_avail|If the learning is a scholarly project, whether it can be completed as a HDR instead.\n",
    "\n",
    "\n",
    "## Data set 2: College Duration\n",
    "\n",
    "Column name| What it refers to\n",
    ":---|:---\n",
    "ID |Unique entry ID\n",
    "Abbreviation | Abbreviated name of the college\n",
    "Duration of training| Minimum duration of training\n",
    "duration_max| Maximum duration of training\n",
    "Comment| Any comments entered in by researcher\n",
    "\n",
    "\n",
    "\n",
    "## Libraries"
   ]
  },
  {
   "cell_type": "code",
   "execution_count": 1,
   "metadata": {},
   "outputs": [],
   "source": [
    "import pandas as pd\n",
    "\n",
    "#import regex\n",
    "import re\n",
    "\n",
    "import numpy as np\n",
    "\n",
    "import operator"
   ]
  },
  {
   "cell_type": "markdown",
   "metadata": {},
   "source": [
    "----------------------"
   ]
  },
  {
   "cell_type": "markdown",
   "metadata": {},
   "source": [
    "# Wrangling Dataset 2: college_learning_activity"
   ]
  },
  {
   "cell_type": "code",
   "execution_count": 2,
   "metadata": {},
   "outputs": [],
   "source": [
    "#Read the workbook\n",
    "\n",
    "df = pd.read_excel('Data/college_name_learning_activity.xlsx')\n",
    "\n",
    "#df.head()"
   ]
  },
  {
   "cell_type": "code",
   "execution_count": 3,
   "metadata": {},
   "outputs": [
    {
     "name": "stdout",
     "output_type": "stream",
     "text": [
      "('Data frame shape is: ', (978, 27))\n",
      "<class 'pandas.core.frame.DataFrame'>\n",
      "RangeIndex: 978 entries, 0 to 977\n",
      "Data columns (total 27 columns):\n",
      "ID1                                    978 non-null int64\n",
      "ID                                     977 non-null float64\n",
      "College_ID                             977 non-null object\n",
      "Reserach_stage_ID                      977 non-null object\n",
      "Competency_ID                          977 non-null object\n",
      "Compulsory_YES_ID                      475 non-null object\n",
      "Repeated_learning_YES_ID               475 non-null object\n",
      "Activity                               977 non-null object\n",
      "Source document                        977 non-null object\n",
      "constructive_type                      977 non-null object\n",
      "scholarly_project                      978 non-null bool\n",
      "activity_type                          439 non-null object\n",
      "LEARNINGA_research_training            978 non-null bool\n",
      "LEARNINGA_experienced_supervisor       978 non-null bool\n",
      "LEARNINGA_experienced_supervisor_ID    82 non-null object\n",
      "RPL                                    978 non-null bool\n",
      "RPL_detail                             45 non-null object\n",
      "reviewed                               978 non-null bool\n",
      "discrepencies_resolved                 978 non-null bool\n",
      "exclude                                978 non-null bool\n",
      "reason                                 393 non-null object\n",
      "project_category_ID                    315 non-null object\n",
      "HDR_option                             978 non-null bool\n",
      "Assessment_format_ID                   299 non-null object\n",
      "Criteria_YES_ID                        301 non-null object\n",
      "Criteria_detail                        245 non-null object\n",
      "HDR_option_avail                       978 non-null bool\n",
      "dtypes: bool(9), float64(1), int64(1), object(16)\n",
      "memory usage: 146.2+ KB\n",
      "None\n"
     ]
    }
   ],
   "source": [
    "print(\"Data frame shape is: \", df.shape)\n",
    "print(df.info())\n",
    "\n",
    "\n",
    "#df.head()"
   ]
  },
  {
   "cell_type": "code",
   "execution_count": 4,
   "metadata": {},
   "outputs": [
    {
     "name": "stdout",
     "output_type": "stream",
     "text": [
      "('Data frame shape is:', (978, 18))\n"
     ]
    }
   ],
   "source": [
    "#required columns only\n",
    "df1 =  df[['College_ID',\n",
    "           \"Reserach_stage_ID\",\n",
    "           \"Competency_ID\", \n",
    "           \"constructive_type\",\n",
    "           \"scholarly_project\",\n",
    "           \"HDR_option\",\n",
    "           \"HDR_option_avail\",\n",
    "           \"Repeated_learning_YES_ID\",\n",
    "           \"Compulsory_YES_ID\",\n",
    "           \"project_category_ID\",\n",
    "           \"RPL\",\n",
    "           \"LEARNINGA_research_training\",\n",
    "           \"LEARNINGA_experienced_supervisor\",\n",
    "           \"LEARNINGA_experienced_supervisor_ID\",\n",
    "           \"activity_type\",\n",
    "           \"reviewed\",\n",
    "           \"discrepencies_resolved\",\n",
    "           'exclude',\n",
    "          ]]\n",
    "\n",
    "print(\"Data frame shape is:\", df1.shape)\n",
    "\n",
    "#df1.head()"
   ]
  },
  {
   "cell_type": "code",
   "execution_count": 5,
   "metadata": {},
   "outputs": [
    {
     "name": "stdout",
     "output_type": "stream",
     "text": [
      "('Data frame shape is: ', (797, 18))\n"
     ]
    }
   ],
   "source": [
    "#only include those that have been reviewed and discrepencies resolved\n",
    "#exclude rows that have been \"excluded\"\n",
    "#also want to exclude learning and assessment activities associated with HDR\n",
    "\n",
    "df_included = df1[(df1['exclude'] == False) & \n",
    "                  (df1['reviewed'] == True) & \n",
    "                  (df1[\"discrepencies_resolved\"] == True) &\n",
    "                 (df1[\"HDR_option\"] == False)]\n",
    "\n",
    "print(\"Data frame shape is: \", df_included.shape)\n",
    "#df_included.head()"
   ]
  },
  {
   "cell_type": "code",
   "execution_count": 6,
   "metadata": {},
   "outputs": [
    {
     "name": "stdout",
     "output_type": "stream",
     "text": [
      "('Data frame shape is: ', (777, 18))\n"
     ]
    }
   ],
   "source": [
    "#Remove all joint colleges\n",
    "\n",
    "df_included = df_included[~df_included .College_ID.str.match(\"RACP/\")]\n",
    "\n",
    "\n",
    "print(\"Data frame shape is: \", df_included.shape)\n",
    "#df_included.head()\n"
   ]
  },
  {
   "cell_type": "code",
   "execution_count": 7,
   "metadata": {},
   "outputs": [
    {
     "data": {
      "text/html": [
       "<div>\n",
       "<style scoped>\n",
       "    .dataframe tbody tr th:only-of-type {\n",
       "        vertical-align: middle;\n",
       "    }\n",
       "\n",
       "    .dataframe tbody tr th {\n",
       "        vertical-align: top;\n",
       "    }\n",
       "\n",
       "    .dataframe thead th {\n",
       "        text-align: right;\n",
       "    }\n",
       "</style>\n",
       "<table border=\"1\" class=\"dataframe\">\n",
       "  <thead>\n",
       "    <tr style=\"text-align: right;\">\n",
       "      <th></th>\n",
       "      <th>College_ID</th>\n",
       "      <th>Reserach_stage_ID</th>\n",
       "      <th>Competency_ID</th>\n",
       "      <th>constructive_type</th>\n",
       "      <th>scholarly_project</th>\n",
       "      <th>HDR_option</th>\n",
       "      <th>HDR_option_avail</th>\n",
       "      <th>Repeated_learning_YES_ID</th>\n",
       "      <th>Compulsory_YES_ID</th>\n",
       "      <th>project_category_ID</th>\n",
       "      <th>RPL</th>\n",
       "      <th>LEARNINGA_research_training</th>\n",
       "      <th>LEARNINGA_experienced_supervisor</th>\n",
       "      <th>LEARNINGA_experienced_supervisor_ID</th>\n",
       "      <th>activity_type</th>\n",
       "      <th>reviewed</th>\n",
       "      <th>discrepencies_resolved</th>\n",
       "      <th>exclude</th>\n",
       "    </tr>\n",
       "  </thead>\n",
       "  <tbody>\n",
       "  </tbody>\n",
       "</table>\n",
       "</div>"
      ],
      "text/plain": [
       "Empty DataFrame\n",
       "Columns: [College_ID, Reserach_stage_ID, Competency_ID, constructive_type, scholarly_project, HDR_option, HDR_option_avail, Repeated_learning_YES_ID, Compulsory_YES_ID, project_category_ID, RPL, LEARNINGA_research_training, LEARNINGA_experienced_supervisor, LEARNINGA_experienced_supervisor_ID, activity_type, reviewed, discrepencies_resolved, exclude]\n",
       "Index: []"
      ]
     },
     "execution_count": 7,
     "metadata": {},
     "output_type": "execute_result"
    }
   ],
   "source": [
    "#Change name of CICM (paediatric)and CICM(adult) to CICM \n",
    "#CICM(adult) and CICM(paediatric) had the same handbook but different LO for both (realised after intital entry)\n",
    "#need to merge\n",
    "\n",
    "#First check that there are no learning or assessment activities in CICM(paeds)\n",
    "\n",
    "df_included[(df_included['College_ID'] == \"CICM (paediatric)\") & \n",
    "                  (df_included[\"constructive_type\"] != \"learning_outcome\")]\n"
   ]
  },
  {
   "cell_type": "code",
   "execution_count": 8,
   "metadata": {},
   "outputs": [],
   "source": [
    "#also check that the learning ojectives for CICM (paediatric) are there\n",
    "\n",
    "#df_included[(df_included['College_ID'] == \"CICM (paediatric)\") & \n",
    "                  #(df_included[\"constructive_type\"] == \"learning_outcome\")]"
   ]
  },
  {
   "cell_type": "code",
   "execution_count": 9,
   "metadata": {},
   "outputs": [
    {
     "name": "stdout",
     "output_type": "stream",
     "text": [
      "('Data frame shape is: ', (777, 18))\n"
     ]
    }
   ],
   "source": [
    "#Change name of CICM (paediatric) and CICM(adult) to CICM \n",
    "\n",
    "df_included.loc[(df_included.College_ID.str.match(\"CICM\")), \"College_ID\"] = 'CICM'\n",
    "#df_included.loc[df_included.College_ID =='CICM (paediatric)'] = 'CICM'\n",
    "\n",
    "\n",
    "print(\"Data frame shape is: \", df_included.shape)\n",
    "#df_included.head()"
   ]
  },
  {
   "cell_type": "markdown",
   "metadata": {},
   "source": [
    "## Consistent naming\n",
    "Some of the abbreviated college names were entered inconsistently; need to change for consistancy across dataset"
   ]
  },
  {
   "cell_type": "code",
   "execution_count": 10,
   "metadata": {},
   "outputs": [
    {
     "name": "stdout",
     "output_type": "stream",
     "text": [
      "('Data frame shape is: ', (777, 18))\n"
     ]
    }
   ],
   "source": [
    "#Change name of colleges for consistency\n",
    "\n",
    "df_included.loc[df_included.College_ID =='ACD (Dermatology)',\"College_ID\"] = 'ACD'\n",
    "df_included.loc[df_included.College_ID =='RANZCP (Psychiatry)', \"College_ID\"] = 'RANZCP'\n",
    "df_included.loc[df_included.College_ID =='RANZCR (rad onc)', \"College_ID\"] = 'RANZCR: Radiation Oncology'\n",
    "\n",
    "print(\"Data frame shape is: \", df_included.shape)\n",
    "#df_included.head()"
   ]
  },
  {
   "cell_type": "code",
   "execution_count": 11,
   "metadata": {},
   "outputs": [
    {
     "data": {
      "text/plain": [
       "61"
      ]
     },
     "execution_count": 11,
     "metadata": {},
     "output_type": "execute_result"
    }
   ],
   "source": [
    "len(set(df_included.College_ID))"
   ]
  },
  {
   "cell_type": "markdown",
   "metadata": {},
   "source": [
    "## Add \"all\" data to respective colleges\n",
    "\n",
    "Some colleges had over arching curriculula:\n",
    "- RACP: ALL applies to all RACP colleges\n",
    "- RCPA: basic applies to all RCPA colleges\n",
    "- RACS: ALL applies to all RACS colleges\n",
    "\n",
    "We need to make a copy of these over arching data points and add to the individual colleges and then remove RACP: All, RCPA: basic and RACS: ALL.\n",
    "\n",
    "\n",
    "### RACP"
   ]
  },
  {
   "cell_type": "code",
   "execution_count": 12,
   "metadata": {},
   "outputs": [],
   "source": [
    "#get a list of all the RACP colleges\n",
    "\n",
    "#get those that have RACP: at the beginning\n",
    "#exclude those that are part of RACP: All\n",
    "#get the college ID (name) column\n",
    "#create a unique list of college names\n",
    "racp_colleges = df_included[(df_included.College_ID.str.match(\"RACP:\") )& (df_included.College_ID != \"RACP: All\")].College_ID.unique()\n",
    "\n",
    "#racp_colleges"
   ]
  },
  {
   "cell_type": "code",
   "execution_count": 13,
   "metadata": {},
   "outputs": [],
   "source": [
    "#Create a data frame of  RACP:ALL\n",
    "# this will need to be copied over to each of the RACP colleges\n",
    "\n",
    "racp_all = df_included[df_included.College_ID.str.contains(\"RACP: ALL\")]\n",
    "\n",
    "#racp_all.head()"
   ]
  },
  {
   "cell_type": "code",
   "execution_count": 14,
   "metadata": {},
   "outputs": [
    {
     "name": "stdout",
     "output_type": "stream",
     "text": [
      "('Data frame shape is: ', (1096, 18))\n"
     ]
    },
    {
     "name": "stderr",
     "output_type": "stream",
     "text": [
      "C:\\Users\\pstehlik\\AppData\\Local\\Continuum\\anaconda2\\lib\\site-packages\\pandas\\core\\generic.py:4405: SettingWithCopyWarning: \n",
      "A value is trying to be set on a copy of a slice from a DataFrame.\n",
      "Try using .loc[row_indexer,col_indexer] = value instead\n",
      "\n",
      "See the caveats in the documentation: http://pandas.pydata.org/pandas-docs/stable/indexing.html#indexing-view-versus-copy\n",
      "  self[name] = value\n"
     ]
    }
   ],
   "source": [
    "#append copied data\n",
    "for i in racp_colleges:\n",
    "    \n",
    "    #change the name to the correct college\n",
    "    racp_all.College_ID = i\n",
    "    \n",
    "    #append the data to our included dataframe\n",
    "    df_included = df_included.append(racp_all)\n",
    "\n",
    "#remove the college RACP:ALL\n",
    "df_included = df_included[df_included.College_ID != \"RACP: ALL\"]\n",
    "\n",
    "print(\"Data frame shape is: \", df_included.shape)\n",
    "#df_included.head()"
   ]
  },
  {
   "cell_type": "markdown",
   "metadata": {},
   "source": [
    "### RCPA"
   ]
  },
  {
   "cell_type": "code",
   "execution_count": 15,
   "metadata": {},
   "outputs": [],
   "source": [
    "#get a list of all the RCPA colleges\n",
    "\n",
    "#get those that have RCPA: at the beginning\n",
    "#exclude those that are part of RCPA: basic\n",
    "#get the college ID (name) column\n",
    "#create a unique list of college names\n",
    "rcpa_colleges = df_included[(df_included.College_ID.str.match(\"RCPA\") )& (df_included.College_ID != \"RCPA: basic\")].College_ID.unique()\n",
    "\n",
    "#rcpa_colleges "
   ]
  },
  {
   "cell_type": "code",
   "execution_count": 16,
   "metadata": {},
   "outputs": [],
   "source": [
    "#Create a data frame of  RCPA:basic\n",
    "# this will need to be copied over to each of the RCPA colleges\n",
    "\n",
    "rcpa_all = df_included[df_included.College_ID.str.contains(\"RCPA: basic\")]\n",
    "\n",
    "#rcpa_all.head()"
   ]
  },
  {
   "cell_type": "code",
   "execution_count": 17,
   "metadata": {},
   "outputs": [
    {
     "name": "stdout",
     "output_type": "stream",
     "text": [
      "('Data frame shape is: ', (1105, 18))\n"
     ]
    }
   ],
   "source": [
    "#append copied data\n",
    "for i in rcpa_colleges:\n",
    "    \n",
    "    #change the name to the correct college\n",
    "    rcpa_all.College_ID = i\n",
    "    \n",
    "    #append the data to our included dataframe\n",
    "    df_included = df_included.append(rcpa_all)\n",
    "\n",
    "#remove the college RACP:ALL\n",
    "df_included = df_included[df_included.College_ID != \"RCPA: basic\"]\n",
    "\n",
    "print(\"Data frame shape is: \", df_included.shape)\n",
    "#df_included.head()"
   ]
  },
  {
   "cell_type": "markdown",
   "metadata": {},
   "source": [
    "### RACS"
   ]
  },
  {
   "cell_type": "code",
   "execution_count": 18,
   "metadata": {},
   "outputs": [],
   "source": [
    "#get a list of all the RACS colleges\n",
    "\n",
    "#get those that have RACS: at the beginning\n",
    "#exclude those that are part of RACS: All\n",
    "#get the college ID (name) column\n",
    "#create a unique list of college names\n",
    "racs_colleges = df_included[(df_included.College_ID.str.match(\"RACS\") )& (df_included.College_ID != \"RACS: ALL\")].College_ID.unique()\n",
    "\n",
    "#racs_colleges    "
   ]
  },
  {
   "cell_type": "code",
   "execution_count": 19,
   "metadata": {},
   "outputs": [],
   "source": [
    "#Create a data frame of  RACS: ALL\n",
    "# this will need to be copied over to each of the RACS colleges\n",
    "\n",
    "racs_all = df_included[df_included.College_ID.str.contains(\"RACS: ALL\")]\n",
    "\n",
    "#racs_all.head()"
   ]
  },
  {
   "cell_type": "code",
   "execution_count": 20,
   "metadata": {},
   "outputs": [
    {
     "name": "stdout",
     "output_type": "stream",
     "text": [
      "('Data frame shape is: ', (1098, 18))\n"
     ]
    }
   ],
   "source": [
    "#append copied data\n",
    "for i in racs_colleges:\n",
    "    \n",
    "    #change the name to the correct college\n",
    "    racp_all.College_ID = i\n",
    "    \n",
    "    #append the data to our included dataframe\n",
    "    df_included = df_included.append(racs_all)\n",
    "\n",
    "#remove the college RACP:ALL\n",
    "df_included = df_included[df_included.College_ID != \"RACS: ALL\"]\n",
    "\n",
    "print(\"Data frame shape is: \", df_included.shape)\n",
    "#df_included.head()"
   ]
  },
  {
   "cell_type": "code",
   "execution_count": 21,
   "metadata": {},
   "outputs": [
    {
     "data": {
      "text/plain": [
       "58"
      ]
     },
     "execution_count": 21,
     "metadata": {},
     "output_type": "execute_result"
    }
   ],
   "source": [
    "len(set(df_included.College_ID))"
   ]
  },
  {
   "cell_type": "markdown",
   "metadata": {},
   "source": [
    "## Add college number \n",
    "\n",
    "Add college number column that matches college with number "
   ]
  },
  {
   "cell_type": "code",
   "execution_count": 22,
   "metadata": {},
   "outputs": [
    {
     "name": "stdout",
     "output_type": "stream",
     "text": [
      "('Data frame shape is: ', (58, 1))\n"
     ]
    },
    {
     "name": "stderr",
     "output_type": "stream",
     "text": [
      "C:\\Users\\pstehlik\\AppData\\Local\\Continuum\\anaconda2\\lib\\site-packages\\ipykernel_launcher.py:7: SettingWithCopyWarning: \n",
      "A value is trying to be set on a copy of a slice from a DataFrame\n",
      "\n",
      "See the caveats in the documentation: http://pandas.pydata.org/pandas-docs/stable/indexing.html#indexing-view-versus-copy\n",
      "  import sys\n"
     ]
    }
   ],
   "source": [
    "#create df of college names and numbers\n",
    "\n",
    "df_numbers = df_included[[\"College_ID\"]]\n",
    "\n",
    "#drop duplicate college names\n",
    "df_numbers.drop_duplicates(subset =\"College_ID\", \n",
    "                     keep = \"first\", inplace = True) \n",
    "\n",
    "#order alphabetically\n",
    "df_numbers = df_numbers.sort_values('College_ID')\n",
    "\n",
    "print(\"Data frame shape is: \", df_numbers.shape)\n",
    "#df_numbers.head()\n"
   ]
  },
  {
   "cell_type": "code",
   "execution_count": 23,
   "metadata": {},
   "outputs": [],
   "source": [
    "#create a column to give a number to represent each college\n",
    "\n",
    "df_numbers[\"college_number\"] = np.arange(len(df_numbers)) + 1\n",
    "\n",
    "\n",
    "#df_numbers.head()"
   ]
  },
  {
   "cell_type": "code",
   "execution_count": 24,
   "metadata": {},
   "outputs": [],
   "source": [
    "#df_numbers"
   ]
  },
  {
   "cell_type": "code",
   "execution_count": 25,
   "metadata": {},
   "outputs": [],
   "source": [
    "#create a new column\n",
    "\n",
    "df_included[\"college_number\"] = df_included[\"College_ID\"]\n",
    "\n",
    "#df_included.head()"
   ]
  },
  {
   "cell_type": "code",
   "execution_count": 26,
   "metadata": {},
   "outputs": [
    {
     "name": "stdout",
     "output_type": "stream",
     "text": [
      "('Data frame shape is: ', (1098, 19))\n"
     ]
    }
   ],
   "source": [
    "#https://stackoverflow.com/questions/20250771/remap-values-in-pandas-column-with-a-dict\n",
    "\n",
    "#convert df into dictionary\n",
    "numbers = dict(zip(df_numbers.College_ID, df_numbers.college_number))\n",
    "\n",
    "#replace names with numbers\n",
    "df_included[\"college_number\"].replace(numbers, inplace = True)\n",
    "\n",
    "\n",
    "print(\"Data frame shape is: \", df_included.shape)\n",
    "#df_included.head()\n",
    "\n"
   ]
  },
  {
   "cell_type": "markdown",
   "metadata": {},
   "source": [
    "# Add \"clean\" category columns\n",
    "\n",
    "Add constructive type abbreviation column just to make life easier later"
   ]
  },
  {
   "cell_type": "code",
   "execution_count": 27,
   "metadata": {},
   "outputs": [
    {
     "name": "stdout",
     "output_type": "stream",
     "text": [
      "('Data frame shape is: ', (1098, 20))\n"
     ]
    }
   ],
   "source": [
    "#create a new column\n",
    "\n",
    "df_included [\"constructive_type_abv\"] = np.nan\n",
    "\n",
    "print(\"Data frame shape is: \", df_included.shape)\n",
    "#df_included.head()"
   ]
  },
  {
   "cell_type": "code",
   "execution_count": 28,
   "metadata": {},
   "outputs": [
    {
     "name": "stdout",
     "output_type": "stream",
     "text": [
      "('Data frame shape is: ', (1098, 20))\n"
     ]
    }
   ],
   "source": [
    "#add abbreviation group names based on constructive type column\n",
    "\n",
    "df_included ['constructive_type_abv'] = pd.np.where(df_included.constructive_type.str.match(\"learning_outcome\"), \"Objective\",\n",
    "                                                    pd.np.where(df_included .constructive_type.str.match(\"learning_activity\"), \"Activity\",\n",
    "                                                                pd.np.where(df_included.constructive_type.str.match(\"assessment_activity\"), \"Assessment\", np.nan)))\n",
    "\n",
    "print(\"Data frame shape is: \", df_included.shape)\n",
    "#df_included .head()"
   ]
  },
  {
   "cell_type": "code",
   "execution_count": 29,
   "metadata": {},
   "outputs": [
    {
     "name": "stdout",
     "output_type": "stream",
     "text": [
      "('Original: ', learning_outcome       684\n",
      "assessment_activity    256\n",
      "learning_activity      158\n",
      "Name: constructive_type, dtype: int64)\n",
      "('Clean: ', Objective     684\n",
      "Assessment    256\n",
      "Activity      158\n",
      "Name: constructive_type_abv, dtype: int64)\n"
     ]
    }
   ],
   "source": [
    "#check that it worked\n",
    "\n",
    "\n",
    "print(\"Original: \", df_included.constructive_type.value_counts())\n",
    "\n",
    "\n",
    "print(\"Clean: \",df_included.constructive_type_abv.value_counts())"
   ]
  },
  {
   "cell_type": "markdown",
   "metadata": {},
   "source": [
    "Same goes for research level column"
   ]
  },
  {
   "cell_type": "code",
   "execution_count": 30,
   "metadata": {},
   "outputs": [
    {
     "name": "stdout",
     "output_type": "stream",
     "text": [
      "('Data frame shape is: ', (1098, 21))\n"
     ]
    }
   ],
   "source": [
    "#create a new column\n",
    "\n",
    "df_included [\"Research Level\"] = np.nan\n",
    "\n",
    "print(\"Data frame shape is: \", df_included.shape)\n",
    "#df_included.head()"
   ]
  },
  {
   "cell_type": "code",
   "execution_count": 31,
   "metadata": {},
   "outputs": [
    {
     "name": "stdout",
     "output_type": "stream",
     "text": [
      "('Data frame shape is: ', (1098, 21))\n"
     ]
    }
   ],
   "source": [
    "df_included [\"Research Level\"] = pd.np.where(df_included.Reserach_stage_ID .str.contains(\"EBP\"), \"Using\",\n",
    "                                                    pd.np.where(df_included .Reserach_stage_ID .str.contains(\"Participating\"), \"Participating\",\n",
    "                                                                pd.np.where(df_included.Reserach_stage_ID .str.contains(\"Leading\"), \"Leading\", \"Undef\")))\n",
    "\n",
    "print(\"Data frame shape is: \", df_included.shape)\n",
    "#df_included "
   ]
  },
  {
   "cell_type": "code",
   "execution_count": 32,
   "metadata": {},
   "outputs": [
    {
     "name": "stdout",
     "output_type": "stream",
     "text": [
      "('Original: ', 3 - \\tLeading research              548\n",
      "1 - \\tUsing research (EBP)          496\n",
      "2 - \\tParticipating in research      53\n",
      "2 - \\tParticipating in research)      1\n",
      "Name: Reserach_stage_ID, dtype: int64)\n",
      "('Clean: ', Leading          548\n",
      "Using            496\n",
      "Participating     54\n",
      "Name: Research Level, dtype: int64)\n"
     ]
    }
   ],
   "source": [
    "#check that it worked\n",
    "\n",
    "\n",
    "print(\"Original: \", df_included.Reserach_stage_ID.value_counts())\n",
    "\n",
    "\n",
    "print(\"Clean: \",df_included[\"Research Level\"].value_counts())\n"
   ]
  },
  {
   "cell_type": "markdown",
   "metadata": {},
   "source": [
    "And competency level column"
   ]
  },
  {
   "cell_type": "code",
   "execution_count": 33,
   "metadata": {},
   "outputs": [],
   "source": [
    "#create a new column\n",
    "\n",
    "df_included [\"Competency\"] = np.nan\n",
    "\n",
    "\n",
    "#df_included.head()"
   ]
  },
  {
   "cell_type": "code",
   "execution_count": 34,
   "metadata": {},
   "outputs": [
    {
     "name": "stdout",
     "output_type": "stream",
     "text": [
      "('Data frame shape is: ', (1098, 22))\n"
     ]
    }
   ],
   "source": [
    "df_included [\"Competency\"] = pd.np.where(df_included.Competency_ID .str.contains(\"1 - Remembering\"), \"Remembering\",\n",
    "                                                    pd.np.where(df_included .Competency_ID .str.contains(\"2 - Understanding\"), \"Understanding\",\n",
    "                                                                pd.np.where(df_included.Competency_ID .str.contains(\"3 - Applying\"), \"Applying\",\n",
    "                                                                            pd.np.where(df_included.Competency_ID .str.contains(\"4 - Analysing\"), \"Analysing\",\n",
    "                                                                                        pd.np.where(df_included.Competency_ID .str.contains(\"5 - Evaluating\"), \"Evaluating\",\n",
    "                                                                                                    pd.np.where(df_included.Competency_ID .str.contains(\"6 - Creating\"), \"Creating\",\"Undef\"))))))\n",
    "\n",
    "print(\"Data frame shape is: \", df_included.shape)\n",
    "#df_included.head()"
   ]
  },
  {
   "cell_type": "code",
   "execution_count": 35,
   "metadata": {},
   "outputs": [
    {
     "name": "stdout",
     "output_type": "stream",
     "text": [
      "('Original: ', 6 - Creating         494\n",
      "5 - Evaluating       257\n",
      "2 - Understanding    161\n",
      "3 - Applying         110\n",
      "1 - Remembering       53\n",
      "4 - Analysing         23\n",
      "Name: Competency_ID, dtype: int64)\n",
      "('Clean: ', Creating         494\n",
      "Evaluating       257\n",
      "Understanding    161\n",
      "Applying         110\n",
      "Remembering       53\n",
      "Analysing         23\n",
      "Name: Competency, dtype: int64)\n"
     ]
    }
   ],
   "source": [
    "#check that it worked\n",
    "\n",
    "\n",
    "print(\"Original: \", df_included.Competency_ID.value_counts())\n",
    "\n",
    "\n",
    "print(\"Clean: \",df_included.Competency.value_counts())\n"
   ]
  },
  {
   "cell_type": "markdown",
   "metadata": {},
   "source": [
    "## Create de-identified dataframe"
   ]
  },
  {
   "cell_type": "code",
   "execution_count": 36,
   "metadata": {},
   "outputs": [
    {
     "data": {
      "text/plain": [
       "array([ True])"
      ]
     },
     "execution_count": 36,
     "metadata": {},
     "output_type": "execute_result"
    }
   ],
   "source": [
    "df_included.reviewed.unique()"
   ]
  },
  {
   "cell_type": "code",
   "execution_count": 37,
   "metadata": {},
   "outputs": [
    {
     "data": {
      "text/plain": [
       "array([ True])"
      ]
     },
     "execution_count": 37,
     "metadata": {},
     "output_type": "execute_result"
    }
   ],
   "source": [
    "df_included.discrepencies_resolved.unique()"
   ]
  },
  {
   "cell_type": "code",
   "execution_count": 38,
   "metadata": {},
   "outputs": [
    {
     "data": {
      "text/plain": [
       "array([False])"
      ]
     },
     "execution_count": 38,
     "metadata": {},
     "output_type": "execute_result"
    }
   ],
   "source": [
    "df_included.exclude.unique()"
   ]
  },
  {
   "cell_type": "code",
   "execution_count": 39,
   "metadata": {},
   "outputs": [
    {
     "data": {
      "text/html": [
       "<div>\n",
       "<style scoped>\n",
       "    .dataframe tbody tr th:only-of-type {\n",
       "        vertical-align: middle;\n",
       "    }\n",
       "\n",
       "    .dataframe tbody tr th {\n",
       "        vertical-align: top;\n",
       "    }\n",
       "\n",
       "    .dataframe thead th {\n",
       "        text-align: right;\n",
       "    }\n",
       "</style>\n",
       "<table border=\"1\" class=\"dataframe\">\n",
       "  <thead>\n",
       "    <tr style=\"text-align: right;\">\n",
       "      <th></th>\n",
       "      <th>College_ID</th>\n",
       "      <th>Research Level</th>\n",
       "      <th>Competency</th>\n",
       "      <th>constructive_type_abv</th>\n",
       "      <th>scholarly_project</th>\n",
       "      <th>HDR_option</th>\n",
       "      <th>HDR_option_avail</th>\n",
       "      <th>Repeated_learning_YES_ID</th>\n",
       "      <th>Compulsory_YES_ID</th>\n",
       "      <th>project_category_ID</th>\n",
       "      <th>RPL</th>\n",
       "      <th>LEARNINGA_research_training</th>\n",
       "      <th>LEARNINGA_experienced_supervisor</th>\n",
       "      <th>LEARNINGA_experienced_supervisor_ID</th>\n",
       "      <th>activity_type</th>\n",
       "    </tr>\n",
       "  </thead>\n",
       "  <tbody>\n",
       "    <tr>\n",
       "      <th>0</th>\n",
       "      <td>38</td>\n",
       "      <td>Leading</td>\n",
       "      <td>Creating</td>\n",
       "      <td>Activity</td>\n",
       "      <td>True</td>\n",
       "      <td>False</td>\n",
       "      <td>False</td>\n",
       "      <td>2 - No</td>\n",
       "      <td>1 - Yes</td>\n",
       "      <td>1 - Only option</td>\n",
       "      <td>True</td>\n",
       "      <td>False</td>\n",
       "      <td>False</td>\n",
       "      <td>4 - Experienced research supervisor ENCOURAGED</td>\n",
       "      <td>Scholalry Project</td>\n",
       "    </tr>\n",
       "    <tr>\n",
       "      <th>1</th>\n",
       "      <td>37</td>\n",
       "      <td>Leading</td>\n",
       "      <td>Creating</td>\n",
       "      <td>Activity</td>\n",
       "      <td>True</td>\n",
       "      <td>False</td>\n",
       "      <td>True</td>\n",
       "      <td>2 - No</td>\n",
       "      <td>1 - Yes</td>\n",
       "      <td>1 - Only option</td>\n",
       "      <td>False</td>\n",
       "      <td>False</td>\n",
       "      <td>False</td>\n",
       "      <td>2 - Supervisor required but no details given</td>\n",
       "      <td>Scholalry Project</td>\n",
       "    </tr>\n",
       "    <tr>\n",
       "      <th>2</th>\n",
       "      <td>38</td>\n",
       "      <td>Using</td>\n",
       "      <td>Evaluating</td>\n",
       "      <td>Activity</td>\n",
       "      <td>False</td>\n",
       "      <td>False</td>\n",
       "      <td>False</td>\n",
       "      <td>2 - No</td>\n",
       "      <td>1 - Yes</td>\n",
       "      <td>1 - Only option</td>\n",
       "      <td>False</td>\n",
       "      <td>True</td>\n",
       "      <td>False</td>\n",
       "      <td>NaN</td>\n",
       "      <td>CLEAR course</td>\n",
       "    </tr>\n",
       "    <tr>\n",
       "      <th>3</th>\n",
       "      <td>37</td>\n",
       "      <td>Using</td>\n",
       "      <td>Evaluating</td>\n",
       "      <td>Activity</td>\n",
       "      <td>False</td>\n",
       "      <td>False</td>\n",
       "      <td>False</td>\n",
       "      <td>2 - No</td>\n",
       "      <td>1 - Yes</td>\n",
       "      <td>1 - Only option</td>\n",
       "      <td>False</td>\n",
       "      <td>True</td>\n",
       "      <td>False</td>\n",
       "      <td>NaN</td>\n",
       "      <td>CLEAR course</td>\n",
       "    </tr>\n",
       "    <tr>\n",
       "      <th>4</th>\n",
       "      <td>36</td>\n",
       "      <td>Leading</td>\n",
       "      <td>Creating</td>\n",
       "      <td>Activity</td>\n",
       "      <td>True</td>\n",
       "      <td>False</td>\n",
       "      <td>True</td>\n",
       "      <td>2 - No</td>\n",
       "      <td>1 - Yes</td>\n",
       "      <td>1 - Only option</td>\n",
       "      <td>True</td>\n",
       "      <td>False</td>\n",
       "      <td>False</td>\n",
       "      <td>2 - Supervisor required but no details given</td>\n",
       "      <td>Scholalry Project</td>\n",
       "    </tr>\n",
       "  </tbody>\n",
       "</table>\n",
       "</div>"
      ],
      "text/plain": [
       "   College_ID Research Level  Competency constructive_type_abv  \\\n",
       "0          38        Leading    Creating              Activity   \n",
       "1          37        Leading    Creating              Activity   \n",
       "2          38          Using  Evaluating              Activity   \n",
       "3          37          Using  Evaluating              Activity   \n",
       "4          36        Leading    Creating              Activity   \n",
       "\n",
       "   scholarly_project  HDR_option  HDR_option_avail Repeated_learning_YES_ID  \\\n",
       "0               True       False             False                   2 - No   \n",
       "1               True       False              True                   2 - No   \n",
       "2              False       False             False                   2 - No   \n",
       "3              False       False             False                   2 - No   \n",
       "4               True       False              True                   2 - No   \n",
       "\n",
       "  Compulsory_YES_ID project_category_ID    RPL  LEARNINGA_research_training  \\\n",
       "0           1 - Yes     1 - Only option   True                        False   \n",
       "1           1 - Yes     1 - Only option  False                        False   \n",
       "2           1 - Yes     1 - Only option  False                         True   \n",
       "3           1 - Yes     1 - Only option  False                         True   \n",
       "4           1 - Yes     1 - Only option   True                        False   \n",
       "\n",
       "   LEARNINGA_experienced_supervisor  \\\n",
       "0                             False   \n",
       "1                             False   \n",
       "2                             False   \n",
       "3                             False   \n",
       "4                             False   \n",
       "\n",
       "              LEARNINGA_experienced_supervisor_ID      activity_type  \n",
       "0  4 - Experienced research supervisor ENCOURAGED  Scholalry Project  \n",
       "1    2 - Supervisor required but no details given  Scholalry Project  \n",
       "2                                             NaN       CLEAR course  \n",
       "3                                             NaN       CLEAR course  \n",
       "4    2 - Supervisor required but no details given  Scholalry Project  "
      ]
     },
     "execution_count": 39,
     "metadata": {},
     "output_type": "execute_result"
    }
   ],
   "source": [
    "df_deidenfified = df_included[[\n",
    "        \"college_number\",\n",
    "        #'College_ID',\n",
    "         #  \"Reserach_stage_ID\",\n",
    "    \"Research Level\",\n",
    "          # \"Competency_ID\", \n",
    "    \"Competency\",\n",
    "         #  \"constructive_type\",\n",
    "    \"constructive_type_abv\",\n",
    "           \"scholarly_project\",\n",
    "           \"HDR_option\",\n",
    "           \"HDR_option_avail\",\n",
    "           \"Repeated_learning_YES_ID\",\n",
    "           \"Compulsory_YES_ID\",\n",
    "           \"project_category_ID\",\n",
    "           \"RPL\",\n",
    "           \"LEARNINGA_research_training\",\n",
    "           \"LEARNINGA_experienced_supervisor\",\n",
    "           \"LEARNINGA_experienced_supervisor_ID\",\n",
    "           \"activity_type\",\n",
    "          # \"reviewed\",\n",
    "          # \"discrepencies_resolved\",\n",
    "          # 'exclude'\n",
    "          #\"Year_achieved_ID\"\n",
    "          ]]\n",
    "\n",
    "#rename college_numbers to College_ID\n",
    "df_deidenfified = df_deidenfified.rename(columns={'college_number': 'College_ID'})\n",
    "\n",
    "\n",
    "df_deidenfified.head()"
   ]
  },
  {
   "cell_type": "markdown",
   "metadata": {},
   "source": [
    "df_included.info()"
   ]
  },
  {
   "cell_type": "markdown",
   "metadata": {},
   "source": [
    "## Save csv file\n"
   ]
  },
  {
   "cell_type": "code",
   "execution_count": 40,
   "metadata": {},
   "outputs": [],
   "source": [
    "#save as csv\n",
    "df_deidenfified.to_csv('Outputs/included_data.csv', sep=',', encoding='utf-8')"
   ]
  },
  {
   "cell_type": "code",
   "execution_count": null,
   "metadata": {},
   "outputs": [],
   "source": []
  },
  {
   "cell_type": "code",
   "execution_count": null,
   "metadata": {},
   "outputs": [],
   "source": []
  },
  {
   "cell_type": "markdown",
   "metadata": {},
   "source": [
    "-------"
   ]
  },
  {
   "cell_type": "markdown",
   "metadata": {},
   "source": [
    "# Wrangling Dataset 1: college_duration"
   ]
  },
  {
   "cell_type": "markdown",
   "metadata": {},
   "source": [
    "## Changing duration of training for RACP Colleges\n",
    "\n",
    "- All RACP colleges have a 3 year basic component of their training, followed by the duration of the adult training.\n",
    "- .: we need to add the duration of basic training to the advance training as this was not done previously."
   ]
  },
  {
   "cell_type": "code",
   "execution_count": 41,
   "metadata": {},
   "outputs": [],
   "source": [
    "#Read the workbook\n",
    "duration = pd.read_excel('Data/college_duration.xlsx')\n",
    "#duration.head()"
   ]
  },
  {
   "cell_type": "code",
   "execution_count": 42,
   "metadata": {},
   "outputs": [
    {
     "name": "stdout",
     "output_type": "stream",
     "text": [
      "('Data frame shape is: ', (69, 5))\n",
      "<class 'pandas.core.frame.DataFrame'>\n",
      "RangeIndex: 69 entries, 0 to 68\n",
      "Data columns (total 5 columns):\n",
      "ID                      69 non-null int64\n",
      "Abbreviation            69 non-null object\n",
      "Duration of training    68 non-null float64\n",
      "duration_max            69 non-null object\n",
      "Comments                56 non-null object\n",
      "dtypes: float64(1), int64(1), object(3)\n",
      "memory usage: 2.8+ KB\n",
      "None\n"
     ]
    }
   ],
   "source": [
    "print(\"Data frame shape is: \", duration.shape)\n",
    "print(duration.info())"
   ]
  },
  {
   "cell_type": "code",
   "execution_count": 43,
   "metadata": {},
   "outputs": [
    {
     "name": "stdout",
     "output_type": "stream",
     "text": [
      "('Data frame shape is: ', (65, 5))\n"
     ]
    }
   ],
   "source": [
    "#Remove all joint colleges\n",
    "\n",
    "duration = duration[~duration.Abbreviation.str.match(\"RACP/\")]\n",
    "\n",
    "\n",
    "print(\"Data frame shape is: \", duration.shape)\n",
    "#duration.head()\n"
   ]
  },
  {
   "cell_type": "code",
   "execution_count": 44,
   "metadata": {},
   "outputs": [
    {
     "name": "stdout",
     "output_type": "stream",
     "text": [
      "('Data frame shape is: ', (65, 5))\n"
     ]
    }
   ],
   "source": [
    "#Change name of CICM (paediatric) and CICM(adult) to CICM \n",
    "\n",
    "duration.loc[(duration.Abbreviation.str.match(\"CICM\")), \"Abbreviation\"] = 'CICM'\n",
    "#df_included.loc[df_included.College_ID =='CICM (paediatric)'] = 'CICM'\n",
    "\n",
    "\n",
    "print(\"Data frame shape is: \", duration.shape)\n",
    "#duration.head()\n"
   ]
  },
  {
   "cell_type": "code",
   "execution_count": 45,
   "metadata": {},
   "outputs": [
    {
     "name": "stdout",
     "output_type": "stream",
     "text": [
      "('Data frame shape is: ', (64, 5))\n"
     ]
    }
   ],
   "source": [
    "#drop duplicates\n",
    "\n",
    "# dropping ALL duplicte values \n",
    "duration.drop_duplicates(subset =\"Abbreviation\", \n",
    "                     keep = \"first\", inplace = True) \n",
    "\n",
    "print(\"Data frame shape is: \", duration.shape)\n",
    "#duration.head()\n"
   ]
  },
  {
   "cell_type": "code",
   "execution_count": 46,
   "metadata": {},
   "outputs": [],
   "source": [
    "#Change name of colleges for consistency\n",
    "\n",
    "duration.loc[duration.Abbreviation =='ACD (Dermatology)',\"Abbreviation\"] = 'ACD'\n",
    "duration.loc[duration.Abbreviation =='RANZCP (Psychiatry)', \"Abbreviation\"] = 'RANZCP'\n",
    "duration.loc[duration.Abbreviation =='RANZCR (rad onc)', \"Abbreviation\"] = 'RANZCR: Radiation Oncology'\n",
    "\n",
    "#duration.head()"
   ]
  },
  {
   "cell_type": "code",
   "execution_count": 47,
   "metadata": {},
   "outputs": [
    {
     "name": "stdout",
     "output_type": "stream",
     "text": [
      "('Data frame shape is: ', (61, 5))\n"
     ]
    }
   ],
   "source": [
    "#remove the \"ALL\" colleges\n",
    "\n",
    "#remove the college RACP:ALL\n",
    "duration = duration[duration.Abbreviation != \"RACP: ALL\"]\n",
    "\n",
    "#remove the college RCPA: basic\n",
    "duration = duration[duration.Abbreviation != \"RCPA: basic\"]\n",
    "\n",
    "#remove the college RACS: ALL\n",
    "duration = duration[duration.Abbreviation != \"RACS: ALL\"]\n",
    "\n",
    "print(\"Data frame shape is: \", duration.shape)\n",
    "#duration.head()"
   ]
  },
  {
   "cell_type": "code",
   "execution_count": 48,
   "metadata": {},
   "outputs": [],
   "source": [
    "#remove RACP basic trainings\n",
    "duration = duration[~duration.Abbreviation.str.match(\"RACP: Basic\")]"
   ]
  },
  {
   "cell_type": "code",
   "execution_count": 49,
   "metadata": {},
   "outputs": [],
   "source": [
    "#add 3 years to all RACP colleges\n",
    "\n",
    "duration.loc[duration.Abbreviation.str.match(\"RACP\"), \"Duration of training\"] = duration[\"Duration of training\"] + 3\n",
    "\n",
    "\n",
    "#duration.head()\n"
   ]
  },
  {
   "cell_type": "code",
   "execution_count": 50,
   "metadata": {
    "scrolled": true
   },
   "outputs": [
    {
     "name": "stdout",
     "output_type": "stream",
     "text": [
      "('Data frame shape is: ', (59, 6))\n"
     ]
    }
   ],
   "source": [
    "#create a column to give a number to represent each college\n",
    "\n",
    "duration[\"college_number\"] = duration[\"Abbreviation\"]\n",
    "\n",
    "#replace names with numbers\n",
    "duration[\"college_number\"].replace(numbers, inplace = True)\n",
    "\n",
    "\n",
    "print(\"Data frame shape is: \", duration.shape)\n",
    "#duration.head()"
   ]
  },
  {
   "cell_type": "code",
   "execution_count": 51,
   "metadata": {},
   "outputs": [],
   "source": [
    "#what is the largest college number\n",
    "i = max(numbers.items(), key=operator.itemgetter(1))[1] +1\n",
    "\n",
    "array = list(range(0, i))\n",
    "\n",
    "\n",
    "#get dataframe of colleges without a numbers\n",
    "un_numbered = duration.loc[~duration[\"college_number\"].isin(array)]\n",
    "\n",
    "#replace college_number college name in with number \n",
    "\n",
    "for college in un_numbered[\"Abbreviation\"]:\n",
    "    duration.loc[duration['Abbreviation'] == college, 'college_number'] = i\n",
    "    i = 1+i"
   ]
  },
  {
   "cell_type": "code",
   "execution_count": 52,
   "metadata": {},
   "outputs": [
    {
     "name": "stdout",
     "output_type": "stream",
     "text": [
      "(59, 2)\n"
     ]
    },
    {
     "data": {
      "text/html": [
       "<div>\n",
       "<style scoped>\n",
       "    .dataframe tbody tr th:only-of-type {\n",
       "        vertical-align: middle;\n",
       "    }\n",
       "\n",
       "    .dataframe tbody tr th {\n",
       "        vertical-align: top;\n",
       "    }\n",
       "\n",
       "    .dataframe thead th {\n",
       "        text-align: right;\n",
       "    }\n",
       "</style>\n",
       "<table border=\"1\" class=\"dataframe\">\n",
       "  <thead>\n",
       "    <tr style=\"text-align: right;\">\n",
       "      <th></th>\n",
       "      <th>College</th>\n",
       "      <th>Duration of training</th>\n",
       "    </tr>\n",
       "  </thead>\n",
       "  <tbody>\n",
       "    <tr>\n",
       "      <th>0</th>\n",
       "      <td>1</td>\n",
       "      <td>4.0</td>\n",
       "    </tr>\n",
       "    <tr>\n",
       "      <th>1</th>\n",
       "      <td>2</td>\n",
       "      <td>3.5</td>\n",
       "    </tr>\n",
       "    <tr>\n",
       "      <th>2</th>\n",
       "      <td>3</td>\n",
       "      <td>5.0</td>\n",
       "    </tr>\n",
       "    <tr>\n",
       "      <th>3</th>\n",
       "      <td>4</td>\n",
       "      <td>6.0</td>\n",
       "    </tr>\n",
       "    <tr>\n",
       "      <th>5</th>\n",
       "      <td>5</td>\n",
       "      <td>3.0</td>\n",
       "    </tr>\n",
       "  </tbody>\n",
       "</table>\n",
       "</div>"
      ],
      "text/plain": [
       "   College  Duration of training\n",
       "0        1                   4.0\n",
       "1        2                   3.5\n",
       "2        3                   5.0\n",
       "3        4                   6.0\n",
       "5        5                   3.0"
      ]
     },
     "execution_count": 52,
     "metadata": {},
     "output_type": "execute_result"
    }
   ],
   "source": [
    "#create new dataframe with required columns\n",
    "\n",
    "min_duration = duration[[\n",
    "    \"college_number\",\n",
    "    \"Duration of training\"]]\n",
    "\n",
    "\n",
    "\n",
    "#rename abbreviation to College\n",
    "min_duration = min_duration.rename(index=str, columns={\"college_number\": \"College\"})\n",
    "\n",
    "print(min_duration.shape)\n",
    "min_duration.head()\n"
   ]
  },
  {
   "cell_type": "code",
   "execution_count": 53,
   "metadata": {},
   "outputs": [],
   "source": [
    "#save as csv\n",
    "min_duration.to_csv('Outputs/min_duration.csv', sep=',', encoding='utf-8')"
   ]
  }
 ],
 "metadata": {
  "kernelspec": {
   "display_name": "Python 2",
   "language": "python",
   "name": "python2"
  },
  "language_info": {
   "codemirror_mode": {
    "name": "ipython",
    "version": 2
   },
   "file_extension": ".py",
   "mimetype": "text/x-python",
   "name": "python",
   "nbconvert_exporter": "python",
   "pygments_lexer": "ipython2",
   "version": "2.7.15"
  }
 },
 "nbformat": 4,
 "nbformat_minor": 2
}
